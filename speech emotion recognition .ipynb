{
 "cells": [
  {
   "cell_type": "code",
   "execution_count": 2,
   "id": "fe704185",
   "metadata": {},
   "outputs": [],
   "source": [
    "#features used in code\n",
    "import librosa\n",
    "import soundfile\n",
    "import os, glob, pickle\n",
    "import numpy as np\n",
    "from sklearn.model_selection import train_test_split\n",
    "from sklearn.neural_network import MLPClassifier\n",
    "from sklearn.metrics import accuracy_score\n",
    "#from pydub import AudioSegment"
   ]
  },
  {
   "cell_type": "code",
   "execution_count": 15,
   "id": "c237e2b5",
   "metadata": {},
   "outputs": [],
   "source": [
    "#extracting features\n",
    "\n",
    "def extract_feature(file_name,mfcc,chroma,mel):\n",
    "    with soundfile.SoundFile(file_name)as sound_file:\n",
    "        X=sound_file.read(dtype=\"float32\")\n",
    "        sample_rate=sound_file.samplerate\n",
    "        if chroma:\n",
    "            stft=np.abs(librosa.stft(X))\n",
    "        result=np.array([])\n",
    "        if mfcc:\n",
    "            mfccs=np.mean(librosa.feature.mfcc(y=X,sr=sample_rate,n_mfcc=40).T,axis=0)\n",
    "            result = np.hstack((result,mfccs))\n",
    "        if chroma:\n",
    "            chroma=np.mean(librosa.feature.chroma_stft(S=stft,sr=sample_rate).T,axis=0)\n",
    "            result=np.hstack((result,chroma))\n",
    "        if mel:\n",
    "            mel=np.mean(librosa.feature.melspectrogram(X,sr=sample_rate).T,axis=0)\n",
    "            result=np.hstack((result,mel))\n",
    "    return result"
   ]
  },
  {
   "cell_type": "code",
   "execution_count": 16,
   "id": "2169b500",
   "metadata": {},
   "outputs": [],
   "source": [
    "#define dataset to hold numbers and emotions available in the dataset\n",
    "\n",
    "emotions={\n",
    "    '01':'neutral',\n",
    "    '02':'calm',\n",
    "    '03':'happy',\n",
    "    '04':'sad',\n",
    "    '05':'angry',\n",
    "    '06':'fearful',\n",
    "    '07':'disgust',\n",
    "    '08':'surprised'\n",
    "}\n",
    "\n",
    "#define a list to hold emotion those we want\n",
    "\n",
    "observed_emotions=['calm','happy','fearful','disgust']"
   ]
  },
  {
   "cell_type": "code",
   "execution_count": 17,
   "id": "32e6ae54",
   "metadata": {},
   "outputs": [],
   "source": [
    "#loading the data\n",
    "\n",
    "def load_data(test_size=0.25):\n",
    "    X,y=[],[]\n",
    "    for file in glob.glob(\"PUT THE ADDRESS OF DATA FILE IN THIS SPACE IN FORMAT OF USING \\\\ IN PLACE OF \\ AND ADDRESS ENDS WITH Actor_*\\\\*.wav\"):\n",
    "        file_name=os.path.basename(file)\n",
    "        #print(file)\n",
    "        emotion=emotions[file_name.split(\"-\")[0]]\n",
    "        if emotion not in observed_emotions:\n",
    "            continue\n",
    "        feature=extract_feature(file,mfcc=True,chroma=True,mel=True)\n",
    "        X.append(feature)\n",
    "        y.append(emotion) \n",
    "    return train_test_split(np.array(X),y,test_size=test_size,random_state=77) "
   ]
  },
  {
   "cell_type": "code",
   "execution_count": 18,
   "id": "d5f0a556",
   "metadata": {},
   "outputs": [],
   "source": [
    "X_train, X_test, y_train, y_test= load_data(test_size=0.25)"
   ]
  },
  {
   "cell_type": "code",
   "execution_count": 19,
   "id": "d5cd5eed",
   "metadata": {},
   "outputs": [
    {
     "name": "stdout",
     "output_type": "stream",
     "text": [
      "(1080, 360)\n"
     ]
    }
   ],
   "source": [
    "print((X_train.shape[0], X_test.shape[0]))\n"
   ]
  },
  {
   "cell_type": "code",
   "execution_count": 8,
   "id": "1e1807cf",
   "metadata": {},
   "outputs": [
    {
     "name": "stdout",
     "output_type": "stream",
     "text": [
      "Features extracted: 180\n"
     ]
    }
   ],
   "source": [
    "print(f'Features extracted: {X_train.shape[1]}')\n"
   ]
  },
  {
   "cell_type": "code",
   "execution_count": 9,
   "id": "b73beb0b",
   "metadata": {},
   "outputs": [],
   "source": [
    "model = MLPClassifier(alpha=0.01, batch_size=256, epsilon=1e-08, \n",
    "hidden_layer_sizes=(300,),learning_rate='adaptive' , max_iter=500)\n"
   ]
  },
  {
   "cell_type": "code",
   "execution_count": 10,
   "id": "466ad216",
   "metadata": {},
   "outputs": [
    {
     "data": {
      "text/plain": [
       "MLPClassifier(alpha=0.01, batch_size=256, hidden_layer_sizes=(300,),\n",
       "              learning_rate='adaptive', max_iter=500)"
      ]
     },
     "execution_count": 10,
     "metadata": {},
     "output_type": "execute_result"
    }
   ],
   "source": [
    "model.fit(X_train,y_train)"
   ]
  },
  {
   "cell_type": "code",
   "execution_count": 11,
   "id": "116220dc",
   "metadata": {},
   "outputs": [],
   "source": [
    "predictions = model.predict(X_test)\n"
   ]
  },
  {
   "cell_type": "code",
   "execution_count": 12,
   "id": "73442acd",
   "metadata": {},
   "outputs": [
    {
     "name": "stdout",
     "output_type": "stream",
     "text": [
      "Accuracy: 100.00%\n"
     ]
    }
   ],
   "source": [
    "accuracy = accuracy_score(y_test, predictions) \n",
    "print(\"Accuracy: {:.2f}%\".format(accuracy*100))\n"
   ]
  },
  {
   "cell_type": "code",
   "execution_count": 13,
   "id": "7014fa75",
   "metadata": {},
   "outputs": [
    {
     "name": "stdout",
     "output_type": "stream",
     "text": [
      "              precision    recall  f1-score   support\n",
      "\n",
      "       happy       1.00      1.00      1.00       360\n",
      "\n",
      "    accuracy                           1.00       360\n",
      "   macro avg       1.00      1.00      1.00       360\n",
      "weighted avg       1.00      1.00      1.00       360\n",
      "\n"
     ]
    }
   ],
   "source": [
    "from sklearn.metrics import classification_report,confusion_matrix \n",
    "print(classification_report(y_test,predictions))\n"
   ]
  },
  {
   "cell_type": "code",
   "execution_count": null,
   "id": "a6ac8c5c",
   "metadata": {},
   "outputs": [],
   "source": []
  }
 ],
 "metadata": {
  "kernelspec": {
   "display_name": "Python 3 (ipykernel)",
   "language": "python",
   "name": "python3"
  },
  "language_info": {
   "codemirror_mode": {
    "name": "ipython",
    "version": 3
   },
   "file_extension": ".py",
   "mimetype": "text/x-python",
   "name": "python",
   "nbconvert_exporter": "python",
   "pygments_lexer": "ipython3",
   "version": "3.9.7"
  }
 },
 "nbformat": 4,
 "nbformat_minor": 5
}
